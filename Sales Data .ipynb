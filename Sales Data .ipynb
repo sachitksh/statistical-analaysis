{
 "cells": [
  {
   "cell_type": "markdown",
   "id": "5e8e35b2",
   "metadata": {},
   "source": [
    "# Black friday sales analysis"
   ]
  },
  {
   "cell_type": "markdown",
   "id": "4700fa21",
   "metadata": {},
   "source": [
    "## Statistical analysis"
   ]
  },
  {
   "cell_type": "markdown",
   "id": "3c69dc63",
   "metadata": {},
   "source": [
    "### Descriptive statistical analysis"
   ]
  },
  {
   "cell_type": "markdown",
   "id": "1996ad01",
   "metadata": {},
   "source": [
    "This dataset comprises of sales transactions captured at a retail store.The dataset has 550,069 rows and 12 columns."
   ]
  },
  {
   "cell_type": "code",
   "execution_count": 1,
   "id": "0a2097d1",
   "metadata": {},
   "outputs": [],
   "source": [
    "import pandas as pd\n",
    "import matplotlib.pyplot as plt # visualizing data\n",
    "import seaborn as sns \n",
    "import numpy as np"
   ]
  },
  {
   "cell_type": "code",
   "execution_count": 2,
   "id": "978aa8f4",
   "metadata": {},
   "outputs": [],
   "source": [
    "df = pd.read_csv('train.csv')"
   ]
  },
  {
   "cell_type": "code",
   "execution_count": 3,
   "id": "f7078fcd",
   "metadata": {},
   "outputs": [
    {
     "data": {
      "text/html": [
       "<div>\n",
       "<style scoped>\n",
       "    .dataframe tbody tr th:only-of-type {\n",
       "        vertical-align: middle;\n",
       "    }\n",
       "\n",
       "    .dataframe tbody tr th {\n",
       "        vertical-align: top;\n",
       "    }\n",
       "\n",
       "    .dataframe thead th {\n",
       "        text-align: right;\n",
       "    }\n",
       "</style>\n",
       "<table border=\"1\" class=\"dataframe\">\n",
       "  <thead>\n",
       "    <tr style=\"text-align: right;\">\n",
       "      <th></th>\n",
       "      <th>User_ID</th>\n",
       "      <th>Product_ID</th>\n",
       "      <th>Gender</th>\n",
       "      <th>Age</th>\n",
       "      <th>Occupation</th>\n",
       "      <th>City_Category</th>\n",
       "      <th>Stay_In_Current_City_Years</th>\n",
       "      <th>Marital_Status</th>\n",
       "      <th>Product_Category_1</th>\n",
       "      <th>Product_Category_2</th>\n",
       "      <th>Product_Category_3</th>\n",
       "      <th>Purchase</th>\n",
       "    </tr>\n",
       "  </thead>\n",
       "  <tbody>\n",
       "    <tr>\n",
       "      <th>0</th>\n",
       "      <td>1000001</td>\n",
       "      <td>P00069042</td>\n",
       "      <td>F</td>\n",
       "      <td>0-17</td>\n",
       "      <td>10</td>\n",
       "      <td>A</td>\n",
       "      <td>2</td>\n",
       "      <td>0</td>\n",
       "      <td>3</td>\n",
       "      <td>NaN</td>\n",
       "      <td>NaN</td>\n",
       "      <td>8370</td>\n",
       "    </tr>\n",
       "    <tr>\n",
       "      <th>1</th>\n",
       "      <td>1000001</td>\n",
       "      <td>P00248942</td>\n",
       "      <td>F</td>\n",
       "      <td>0-17</td>\n",
       "      <td>10</td>\n",
       "      <td>A</td>\n",
       "      <td>2</td>\n",
       "      <td>0</td>\n",
       "      <td>1</td>\n",
       "      <td>6.0</td>\n",
       "      <td>14.0</td>\n",
       "      <td>15200</td>\n",
       "    </tr>\n",
       "    <tr>\n",
       "      <th>2</th>\n",
       "      <td>1000001</td>\n",
       "      <td>P00087842</td>\n",
       "      <td>F</td>\n",
       "      <td>0-17</td>\n",
       "      <td>10</td>\n",
       "      <td>A</td>\n",
       "      <td>2</td>\n",
       "      <td>0</td>\n",
       "      <td>12</td>\n",
       "      <td>NaN</td>\n",
       "      <td>NaN</td>\n",
       "      <td>1422</td>\n",
       "    </tr>\n",
       "    <tr>\n",
       "      <th>3</th>\n",
       "      <td>1000001</td>\n",
       "      <td>P00085442</td>\n",
       "      <td>F</td>\n",
       "      <td>0-17</td>\n",
       "      <td>10</td>\n",
       "      <td>A</td>\n",
       "      <td>2</td>\n",
       "      <td>0</td>\n",
       "      <td>12</td>\n",
       "      <td>14.0</td>\n",
       "      <td>NaN</td>\n",
       "      <td>1057</td>\n",
       "    </tr>\n",
       "    <tr>\n",
       "      <th>4</th>\n",
       "      <td>1000002</td>\n",
       "      <td>P00285442</td>\n",
       "      <td>M</td>\n",
       "      <td>55+</td>\n",
       "      <td>16</td>\n",
       "      <td>C</td>\n",
       "      <td>4+</td>\n",
       "      <td>0</td>\n",
       "      <td>8</td>\n",
       "      <td>NaN</td>\n",
       "      <td>NaN</td>\n",
       "      <td>7969</td>\n",
       "    </tr>\n",
       "  </tbody>\n",
       "</table>\n",
       "</div>"
      ],
      "text/plain": [
       "   User_ID Product_ID Gender   Age  Occupation City_Category  \\\n",
       "0  1000001  P00069042      F  0-17          10             A   \n",
       "1  1000001  P00248942      F  0-17          10             A   \n",
       "2  1000001  P00087842      F  0-17          10             A   \n",
       "3  1000001  P00085442      F  0-17          10             A   \n",
       "4  1000002  P00285442      M   55+          16             C   \n",
       "\n",
       "  Stay_In_Current_City_Years  Marital_Status  Product_Category_1  \\\n",
       "0                          2               0                   3   \n",
       "1                          2               0                   1   \n",
       "2                          2               0                  12   \n",
       "3                          2               0                  12   \n",
       "4                         4+               0                   8   \n",
       "\n",
       "   Product_Category_2  Product_Category_3  Purchase  \n",
       "0                 NaN                 NaN      8370  \n",
       "1                 6.0                14.0     15200  \n",
       "2                 NaN                 NaN      1422  \n",
       "3                14.0                 NaN      1057  \n",
       "4                 NaN                 NaN      7969  "
      ]
     },
     "execution_count": 3,
     "metadata": {},
     "output_type": "execute_result"
    }
   ],
   "source": [
    "df.head()"
   ]
  },
  {
   "cell_type": "code",
   "execution_count": 4,
   "id": "b7c07664",
   "metadata": {},
   "outputs": [
    {
     "data": {
      "text/plain": [
       "(550068, 12)"
      ]
     },
     "execution_count": 4,
     "metadata": {},
     "output_type": "execute_result"
    }
   ],
   "source": [
    "df.shape"
   ]
  },
  {
   "cell_type": "code",
   "execution_count": 5,
   "id": "1b845697",
   "metadata": {},
   "outputs": [
    {
     "name": "stdout",
     "output_type": "stream",
     "text": [
      "<class 'pandas.core.frame.DataFrame'>\n",
      "RangeIndex: 550068 entries, 0 to 550067\n",
      "Data columns (total 12 columns):\n",
      " #   Column                      Non-Null Count   Dtype  \n",
      "---  ------                      --------------   -----  \n",
      " 0   User_ID                     550068 non-null  int64  \n",
      " 1   Product_ID                  550068 non-null  object \n",
      " 2   Gender                      550068 non-null  object \n",
      " 3   Age                         550068 non-null  object \n",
      " 4   Occupation                  550068 non-null  int64  \n",
      " 5   City_Category               550068 non-null  object \n",
      " 6   Stay_In_Current_City_Years  550068 non-null  object \n",
      " 7   Marital_Status              550068 non-null  int64  \n",
      " 8   Product_Category_1          550068 non-null  int64  \n",
      " 9   Product_Category_2          376430 non-null  float64\n",
      " 10  Product_Category_3          166821 non-null  float64\n",
      " 11  Purchase                    550068 non-null  int64  \n",
      "dtypes: float64(2), int64(5), object(5)\n",
      "memory usage: 50.4+ MB\n"
     ]
    }
   ],
   "source": [
    "df.info()"
   ]
  },
  {
   "cell_type": "code",
   "execution_count": 6,
   "id": "b394b9d2",
   "metadata": {},
   "outputs": [
    {
     "data": {
      "text/html": [
       "<div>\n",
       "<style scoped>\n",
       "    .dataframe tbody tr th:only-of-type {\n",
       "        vertical-align: middle;\n",
       "    }\n",
       "\n",
       "    .dataframe tbody tr th {\n",
       "        vertical-align: top;\n",
       "    }\n",
       "\n",
       "    .dataframe thead th {\n",
       "        text-align: right;\n",
       "    }\n",
       "</style>\n",
       "<table border=\"1\" class=\"dataframe\">\n",
       "  <thead>\n",
       "    <tr style=\"text-align: right;\">\n",
       "      <th></th>\n",
       "      <th>User_ID</th>\n",
       "      <th>Occupation</th>\n",
       "      <th>Marital_Status</th>\n",
       "      <th>Product_Category_1</th>\n",
       "      <th>Product_Category_2</th>\n",
       "      <th>Product_Category_3</th>\n",
       "      <th>Purchase</th>\n",
       "    </tr>\n",
       "  </thead>\n",
       "  <tbody>\n",
       "    <tr>\n",
       "      <th>count</th>\n",
       "      <td>5.500680e+05</td>\n",
       "      <td>550068.000000</td>\n",
       "      <td>550068.000000</td>\n",
       "      <td>550068.000000</td>\n",
       "      <td>376430.000000</td>\n",
       "      <td>166821.000000</td>\n",
       "      <td>550068.000000</td>\n",
       "    </tr>\n",
       "    <tr>\n",
       "      <th>mean</th>\n",
       "      <td>1.003029e+06</td>\n",
       "      <td>8.076707</td>\n",
       "      <td>0.409653</td>\n",
       "      <td>5.404270</td>\n",
       "      <td>9.842329</td>\n",
       "      <td>12.668243</td>\n",
       "      <td>9263.968713</td>\n",
       "    </tr>\n",
       "    <tr>\n",
       "      <th>std</th>\n",
       "      <td>1.727592e+03</td>\n",
       "      <td>6.522660</td>\n",
       "      <td>0.491770</td>\n",
       "      <td>3.936211</td>\n",
       "      <td>5.086590</td>\n",
       "      <td>4.125338</td>\n",
       "      <td>5023.065394</td>\n",
       "    </tr>\n",
       "    <tr>\n",
       "      <th>min</th>\n",
       "      <td>1.000001e+06</td>\n",
       "      <td>0.000000</td>\n",
       "      <td>0.000000</td>\n",
       "      <td>1.000000</td>\n",
       "      <td>2.000000</td>\n",
       "      <td>3.000000</td>\n",
       "      <td>12.000000</td>\n",
       "    </tr>\n",
       "    <tr>\n",
       "      <th>25%</th>\n",
       "      <td>1.001516e+06</td>\n",
       "      <td>2.000000</td>\n",
       "      <td>0.000000</td>\n",
       "      <td>1.000000</td>\n",
       "      <td>5.000000</td>\n",
       "      <td>9.000000</td>\n",
       "      <td>5823.000000</td>\n",
       "    </tr>\n",
       "    <tr>\n",
       "      <th>50%</th>\n",
       "      <td>1.003077e+06</td>\n",
       "      <td>7.000000</td>\n",
       "      <td>0.000000</td>\n",
       "      <td>5.000000</td>\n",
       "      <td>9.000000</td>\n",
       "      <td>14.000000</td>\n",
       "      <td>8047.000000</td>\n",
       "    </tr>\n",
       "    <tr>\n",
       "      <th>75%</th>\n",
       "      <td>1.004478e+06</td>\n",
       "      <td>14.000000</td>\n",
       "      <td>1.000000</td>\n",
       "      <td>8.000000</td>\n",
       "      <td>15.000000</td>\n",
       "      <td>16.000000</td>\n",
       "      <td>12054.000000</td>\n",
       "    </tr>\n",
       "    <tr>\n",
       "      <th>max</th>\n",
       "      <td>1.006040e+06</td>\n",
       "      <td>20.000000</td>\n",
       "      <td>1.000000</td>\n",
       "      <td>20.000000</td>\n",
       "      <td>18.000000</td>\n",
       "      <td>18.000000</td>\n",
       "      <td>23961.000000</td>\n",
       "    </tr>\n",
       "  </tbody>\n",
       "</table>\n",
       "</div>"
      ],
      "text/plain": [
       "            User_ID     Occupation  Marital_Status  Product_Category_1  \\\n",
       "count  5.500680e+05  550068.000000   550068.000000       550068.000000   \n",
       "mean   1.003029e+06       8.076707        0.409653            5.404270   \n",
       "std    1.727592e+03       6.522660        0.491770            3.936211   \n",
       "min    1.000001e+06       0.000000        0.000000            1.000000   \n",
       "25%    1.001516e+06       2.000000        0.000000            1.000000   \n",
       "50%    1.003077e+06       7.000000        0.000000            5.000000   \n",
       "75%    1.004478e+06      14.000000        1.000000            8.000000   \n",
       "max    1.006040e+06      20.000000        1.000000           20.000000   \n",
       "\n",
       "       Product_Category_2  Product_Category_3       Purchase  \n",
       "count       376430.000000       166821.000000  550068.000000  \n",
       "mean             9.842329           12.668243    9263.968713  \n",
       "std              5.086590            4.125338    5023.065394  \n",
       "min              2.000000            3.000000      12.000000  \n",
       "25%              5.000000            9.000000    5823.000000  \n",
       "50%              9.000000           14.000000    8047.000000  \n",
       "75%             15.000000           16.000000   12054.000000  \n",
       "max             18.000000           18.000000   23961.000000  "
      ]
     },
     "execution_count": 6,
     "metadata": {},
     "output_type": "execute_result"
    }
   ],
   "source": [
    "df.describe()"
   ]
  },
  {
   "cell_type": "code",
   "execution_count": 7,
   "id": "afa74b88",
   "metadata": {},
   "outputs": [
    {
     "data": {
      "text/plain": [
       "Index(['User_ID', 'Product_ID', 'Gender', 'Age', 'Occupation', 'City_Category',\n",
       "       'Stay_In_Current_City_Years', 'Marital_Status', 'Product_Category_1',\n",
       "       'Product_Category_2', 'Product_Category_3', 'Purchase'],\n",
       "      dtype='object')"
      ]
     },
     "execution_count": 7,
     "metadata": {},
     "output_type": "execute_result"
    }
   ],
   "source": [
    "df.columns"
   ]
  },
  {
   "cell_type": "markdown",
   "id": "7ee46108",
   "metadata": {},
   "source": [
    "## Gender"
   ]
  },
  {
   "cell_type": "code",
   "execution_count": 8,
   "id": "771b9b5d",
   "metadata": {},
   "outputs": [
    {
     "name": "stdout",
     "output_type": "stream",
     "text": [
      "percentage of gender\n"
     ]
    },
    {
     "data": {
      "text/plain": [
       "M    75.310507\n",
       "F    24.689493\n",
       "Name: Gender, dtype: float64"
      ]
     },
     "execution_count": 8,
     "metadata": {},
     "output_type": "execute_result"
    }
   ],
   "source": [
    "print('percentage of gender')\n",
    "(df['Gender'].value_counts()/df.shape[0])*100"
   ]
  },
  {
   "cell_type": "code",
   "execution_count": 9,
   "id": "da89cbf3",
   "metadata": {},
   "outputs": [
    {
     "data": {
      "image/png": "[encoded data removed]",
      "text/plain": [
       "<Figure size 864x504 with 1 Axes>"
      ]
     },
     "metadata": {},
     "output_type": "display_data"
    }
   ],
   "source": [
    "fig1,ax1=plt.subplots(figsize=(12,7))\n",
    "ax1.pie(df['Gender'].value_counts(),labels=['Male','Female'],explode=(0.1,0),autopct='%1.1f%%')\n",
    "plt.tight_layout()\n",
    "plt.legend()\n",
    "plt.show()"
   ]
  },
  {
   "cell_type": "code",
   "execution_count": 10,
   "id": "b283dfe1",
   "metadata": {},
   "outputs": [],
   "source": [
    "a = df.groupby('Gender')['Purchase'].sum()"
   ]
  },
  {
   "cell_type": "code",
   "execution_count": 11,
   "id": "fef717ac",
   "metadata": {},
   "outputs": [],
   "source": [
    "values = [a[0],a[1]]"
   ]
  },
  {
   "cell_type": "code",
   "execution_count": 12,
   "id": "a246ae99",
   "metadata": {},
   "outputs": [],
   "source": [
    "x = ['F','M']"
   ]
  },
  {
   "cell_type": "code",
   "execution_count": 13,
   "id": "a395c53e",
   "metadata": {},
   "outputs": [
    {
     "name": "stderr",
     "output_type": "stream",
     "text": [
      "C:\\Users\\SACHIT\\AppData\\Roaming\\Python\\Python39\\site-packages\\seaborn\\_decorators.py:36: FutureWarning: Pass the following variables as keyword args: x, y. From version 0.12, the only valid positional argument will be `data`, and passing other arguments without an explicit keyword will result in an error or misinterpretation.\n",
      "  warnings.warn(\n"
     ]
    },
    {
     "data": {
      "text/plain": [
       "<AxesSubplot:>"
      ]
     },
     "execution_count": 13,
     "metadata": {},
     "output_type": "execute_result"
    },
    {
     "data": {
      "image/png": "[encoded data removed]",
      "text/plain": [
       "<Figure size 432x288 with 1 Axes>"
      ]
     },
     "metadata": {
      "needs_background": "light"
     },
     "output_type": "display_data"
    }
   ],
   "source": [
    "sns.barplot(x,values)"
   ]
  },
  {
   "cell_type": "markdown",
   "id": "6f2bc568",
   "metadata": {},
   "source": [
    "As we can see in the above barplot that men's purchasing power is greater than women,it is mostly due to 75% customers being men"
   ]
  },
  {
   "cell_type": "markdown",
   "id": "22ca7505",
   "metadata": {},
   "source": [
    "# Age"
   ]
  },
  {
   "cell_type": "code",
   "execution_count": 14,
   "id": "ba0bb307",
   "metadata": {},
   "outputs": [
    {
     "name": "stderr",
     "output_type": "stream",
     "text": [
      "C:\\Users\\SACHIT\\AppData\\Roaming\\Python\\Python39\\site-packages\\seaborn\\_decorators.py:36: FutureWarning: Pass the following variable as a keyword arg: x. From version 0.12, the only valid positional argument will be `data`, and passing other arguments without an explicit keyword will result in an error or misinterpretation.\n",
      "  warnings.warn(\n"
     ]
    },
    {
     "data": {
      "text/plain": [
       "<AxesSubplot:xlabel='Age', ylabel='count'>"
      ]
     },
     "execution_count": 14,
     "metadata": {},
     "output_type": "execute_result"
    },
    {
     "data": {
      "image/png": "[encoded data removed]",
      "text/plain": [
       "<Figure size 432x288 with 1 Axes>"
      ]
     },
     "metadata": {
      "needs_background": "light"
     },
     "output_type": "display_data"
    }
   ],
   "source": [
    "sns.countplot(df['Age'],hue=df['Gender'])"
   ]
  },
  {
   "cell_type": "markdown",
   "id": "73f8cf27",
   "metadata": {},
   "source": [
    "above given plot shows that most of the customers are aged between 26-35 in both the genders"
   ]
  },
  {
   "cell_type": "code",
   "execution_count": 15,
   "id": "c16cafd9",
   "metadata": {},
   "outputs": [],
   "source": [
    "b = df.groupby('Age')['Purchase'].sum()"
   ]
  },
  {
   "cell_type": "code",
   "execution_count": 16,
   "id": "83a9b163",
   "metadata": {},
   "outputs": [
    {
     "data": {
      "text/plain": [
       "[<matplotlib.lines.Line2D at 0x182b42a9700>]"
      ]
     },
     "execution_count": 16,
     "metadata": {},
     "output_type": "execute_result"
    },
    {
     "data": {
      "image/png": "[encoded data removed]",
      "text/plain": [
       "<Figure size 432x288 with 1 Axes>"
      ]
     },
     "metadata": {
      "needs_background": "light"
     },
     "output_type": "display_data"
    }
   ],
   "source": [
    "plt.plot(b)"
   ]
  },
  {
   "cell_type": "markdown",
   "id": "ee70e163",
   "metadata": {},
   "source": [
    "# Product_category"
   ]
  },
  {
   "cell_type": "code",
   "execution_count": 17,
   "id": "b7118e3d",
   "metadata": {},
   "outputs": [],
   "source": [
    "def plot(group,column,plot):\n",
    "    ax=plt.figure(figsize=(12,6))\n",
    "    df.groupby(group)[column].sum().sort_values().plot(kind=plot)"
   ]
  },
  {
   "cell_type": "code",
   "execution_count": 18,
   "id": "ceed5a31",
   "metadata": {},
   "outputs": [
    {
     "data": {
      "image/png": "[encoded data removed]",
      "text/plain": [
       "<Figure size 864x432 with 1 Axes>"
      ]
     },
     "metadata": {
      "needs_background": "light"
     },
     "output_type": "display_data"
    }
   ],
   "source": [
    "plot('Product_Category_1','Purchase','barh')"
   ]
  },
  {
   "cell_type": "code",
   "execution_count": 19,
   "id": "1da70a9d",
   "metadata": {},
   "outputs": [
    {
     "data": {
      "image/png": "[encoded data removed]",
      "text/plain": [
       "<Figure size 864x432 with 1 Axes>"
      ]
     },
     "metadata": {
      "needs_background": "light"
     },
     "output_type": "display_data"
    }
   ],
   "source": [
    "plot('Product_Category_2','Purchase','barh')"
   ]
  },
  {
   "cell_type": "code",
   "execution_count": 20,
   "id": "2260ea48",
   "metadata": {},
   "outputs": [
    {
     "data": {
      "image/png": "[encoded data removed]",
      "text/plain": [
       "<Figure size 864x432 with 1 Axes>"
      ]
     },
     "metadata": {
      "needs_background": "light"
     },
     "output_type": "display_data"
    }
   ],
   "source": [
    "plot('Product_Category_3','Purchase','barh')"
   ]
  },
  {
   "cell_type": "markdown",
   "id": "f9267dc2",
   "metadata": {},
   "source": [
    "# Inferential Analysis"
   ]
  },
  {
   "cell_type": "code",
   "execution_count": 21,
   "id": "22821fa7",
   "metadata": {},
   "outputs": [
    {
     "data": {
      "text/plain": [
       "Index(['User_ID', 'Product_ID', 'Gender', 'Age', 'Occupation', 'City_Category',\n",
       "       'Stay_In_Current_City_Years', 'Marital_Status', 'Product_Category_1',\n",
       "       'Product_Category_2', 'Product_Category_3', 'Purchase'],\n",
       "      dtype='object')"
      ]
     },
     "execution_count": 21,
     "metadata": {},
     "output_type": "execute_result"
    }
   ],
   "source": [
    "df.columns"
   ]
  },
  {
   "cell_type": "markdown",
   "id": "d43cea0b",
   "metadata": {},
   "source": [
    "## Questions"
   ]
  },
  {
   "cell_type": "markdown",
   "id": "ca78ecd5",
   "metadata": {},
   "source": [
    "1)is mean purchasing power of married people is higher than non married people?                                           "
   ]
  },
  {
   "cell_type": "code",
   "execution_count": 22,
   "id": "18c07832",
   "metadata": {},
   "outputs": [
    {
     "name": "stderr",
     "output_type": "stream",
     "text": [
      "C:\\Users\\SACHIT\\AppData\\Roaming\\Python\\Python39\\site-packages\\statsmodels\\compat\\pandas.py:65: FutureWarning: pandas.Int64Index is deprecated and will be removed from pandas in a future version. Use pandas.Index with the appropriate dtype instead.\n",
      "  from pandas import Int64Index as NumericIndex\n"
     ]
    }
   ],
   "source": [
    "import statsmodels.api as sm"
   ]
  },
  {
   "cell_type": "code",
   "execution_count": 23,
   "id": "143fd5a8",
   "metadata": {},
   "outputs": [],
   "source": [
    "df.Marital_Status.replace({0:'non_married',1:'married'},inplace=True)"
   ]
  },
  {
   "cell_type": "code",
   "execution_count": 24,
   "id": "c6c92e4b",
   "metadata": {},
   "outputs": [],
   "source": [
    "n=df.shape[0]\n",
    "married=df.Marital_Status.value_counts().loc['married']"
   ]
  },
  {
   "cell_type": "code",
   "execution_count": 25,
   "id": "8ffccf0b",
   "metadata": {},
   "outputs": [
    {
     "data": {
      "text/html": [
       "<div>\n",
       "<style scoped>\n",
       "    .dataframe tbody tr th:only-of-type {\n",
       "        vertical-align: middle;\n",
       "    }\n",
       "\n",
       "    .dataframe tbody tr th {\n",
       "        vertical-align: top;\n",
       "    }\n",
       "\n",
       "    .dataframe thead th {\n",
       "        text-align: right;\n",
       "    }\n",
       "</style>\n",
       "<table border=\"1\" class=\"dataframe\">\n",
       "  <thead>\n",
       "    <tr style=\"text-align: right;\">\n",
       "      <th></th>\n",
       "      <th>User_ID</th>\n",
       "      <th>Product_ID</th>\n",
       "      <th>Gender</th>\n",
       "      <th>Age</th>\n",
       "      <th>Occupation</th>\n",
       "      <th>City_Category</th>\n",
       "      <th>Stay_In_Current_City_Years</th>\n",
       "      <th>Marital_Status</th>\n",
       "      <th>Product_Category_1</th>\n",
       "      <th>Product_Category_2</th>\n",
       "      <th>Product_Category_3</th>\n",
       "      <th>Purchase</th>\n",
       "    </tr>\n",
       "  </thead>\n",
       "  <tbody>\n",
       "    <tr>\n",
       "      <th>6</th>\n",
       "      <td>1000004</td>\n",
       "      <td>P00184942</td>\n",
       "      <td>M</td>\n",
       "      <td>46-50</td>\n",
       "      <td>7</td>\n",
       "      <td>B</td>\n",
       "      <td>2</td>\n",
       "      <td>married</td>\n",
       "      <td>1</td>\n",
       "      <td>8.0</td>\n",
       "      <td>17.0</td>\n",
       "      <td>19215</td>\n",
       "    </tr>\n",
       "    <tr>\n",
       "      <th>7</th>\n",
       "      <td>1000004</td>\n",
       "      <td>P00346142</td>\n",
       "      <td>M</td>\n",
       "      <td>46-50</td>\n",
       "      <td>7</td>\n",
       "      <td>B</td>\n",
       "      <td>2</td>\n",
       "      <td>married</td>\n",
       "      <td>1</td>\n",
       "      <td>15.0</td>\n",
       "      <td>NaN</td>\n",
       "      <td>15854</td>\n",
       "    </tr>\n",
       "    <tr>\n",
       "      <th>8</th>\n",
       "      <td>1000004</td>\n",
       "      <td>P0097242</td>\n",
       "      <td>M</td>\n",
       "      <td>46-50</td>\n",
       "      <td>7</td>\n",
       "      <td>B</td>\n",
       "      <td>2</td>\n",
       "      <td>married</td>\n",
       "      <td>1</td>\n",
       "      <td>16.0</td>\n",
       "      <td>NaN</td>\n",
       "      <td>15686</td>\n",
       "    </tr>\n",
       "    <tr>\n",
       "      <th>9</th>\n",
       "      <td>1000005</td>\n",
       "      <td>P00274942</td>\n",
       "      <td>M</td>\n",
       "      <td>26-35</td>\n",
       "      <td>20</td>\n",
       "      <td>A</td>\n",
       "      <td>1</td>\n",
       "      <td>married</td>\n",
       "      <td>8</td>\n",
       "      <td>NaN</td>\n",
       "      <td>NaN</td>\n",
       "      <td>7871</td>\n",
       "    </tr>\n",
       "    <tr>\n",
       "      <th>10</th>\n",
       "      <td>1000005</td>\n",
       "      <td>P00251242</td>\n",
       "      <td>M</td>\n",
       "      <td>26-35</td>\n",
       "      <td>20</td>\n",
       "      <td>A</td>\n",
       "      <td>1</td>\n",
       "      <td>married</td>\n",
       "      <td>5</td>\n",
       "      <td>11.0</td>\n",
       "      <td>NaN</td>\n",
       "      <td>5254</td>\n",
       "    </tr>\n",
       "  </tbody>\n",
       "</table>\n",
       "</div>"
      ],
      "text/plain": [
       "    User_ID Product_ID Gender    Age  Occupation City_Category  \\\n",
       "6   1000004  P00184942      M  46-50           7             B   \n",
       "7   1000004  P00346142      M  46-50           7             B   \n",
       "8   1000004   P0097242      M  46-50           7             B   \n",
       "9   1000005  P00274942      M  26-35          20             A   \n",
       "10  1000005  P00251242      M  26-35          20             A   \n",
       "\n",
       "   Stay_In_Current_City_Years Marital_Status  Product_Category_1  \\\n",
       "6                           2        married                   1   \n",
       "7                           2        married                   1   \n",
       "8                           2        married                   1   \n",
       "9                           1        married                   8   \n",
       "10                          1        married                   5   \n",
       "\n",
       "    Product_Category_2  Product_Category_3  Purchase  \n",
       "6                  8.0                17.0     19215  \n",
       "7                 15.0                 NaN     15854  \n",
       "8                 16.0                 NaN     15686  \n",
       "9                  NaN                 NaN      7871  \n",
       "10                11.0                 NaN      5254  "
      ]
     },
     "execution_count": 25,
     "metadata": {},
     "output_type": "execute_result"
    }
   ],
   "source": [
    "df_married = df[df.Marital_Status=='married']\n",
    "df_non_married = df[df.Marital_Status=='non_married']\n",
    "df_married.head()"
   ]
  },
  {
   "cell_type": "code",
   "execution_count": 26,
   "id": "e91342a6",
   "metadata": {},
   "outputs": [
    {
     "name": "stdout",
     "output_type": "stream",
     "text": [
      "\n",
      "95% C.I. with statsmodels library ==> (9240.460427057078, 9281.888721107669)\n"
     ]
    }
   ],
   "source": [
    "print(\"\\n95% C.I. with statsmodels library ==>\",sm.stats.DescrStatsW(df_married['Purchase']).zconfint_mean())"
   ]
  },
  {
   "cell_type": "code",
   "execution_count": 27,
   "id": "0b2e2eab",
   "metadata": {},
   "outputs": [
    {
     "name": "stdout",
     "output_type": "stream",
     "text": [
      "P-Value is ==>  0.7310946212217337\n"
     ]
    }
   ],
   "source": [
    "z,p_value = sm.stats.ztest(df_married['Purchase'],df_non_married['Purchase'])\n",
    "\n",
    "print(\"P-Value is ==> \",p_value)"
   ]
  },
  {
   "cell_type": "markdown",
   "id": "cd5a1718",
   "metadata": {},
   "source": [
    "p_value is more than 0.05 hence there is not  significant difference in mean purchace value"
   ]
  },
  {
   "cell_type": "code",
   "execution_count": 28,
   "id": "1cf344bf",
   "metadata": {},
   "outputs": [
    {
     "name": "stdout",
     "output_type": "stream",
     "text": [
      "\n",
      "95% C.I. with statsmodels library ==> (9248.61641818668, 9283.198819656332)\n"
     ]
    }
   ],
   "source": [
    "print(\"\\n95% C.I. with statsmodels library ==>\",sm.stats.DescrStatsW(df_non_married['Purchase']).zconfint_mean())"
   ]
  },
  {
   "cell_type": "code",
   "execution_count": 29,
   "id": "7b5f5354",
   "metadata": {},
   "outputs": [
    {
     "name": "stderr",
     "output_type": "stream",
     "text": [
      "C:\\Users\\SACHIT\\AppData\\Roaming\\Python\\Python39\\site-packages\\seaborn\\distributions.py:2557: FutureWarning: `distplot` is a deprecated function and will be removed in a future version. Please adapt your code to use either `displot` (a figure-level function with similar flexibility) or `histplot` (an axes-level function for histograms).\n",
      "  warnings.warn(msg, FutureWarning)\n"
     ]
    },
    {
     "data": {
      "text/plain": [
       "<matplotlib.lines.Line2D at 0x182babbe340>"
      ]
     },
     "execution_count": 29,
     "metadata": {},
     "output_type": "execute_result"
    },
    {
     "data": {
      "image/png": "[encoded data removed]",
      "text/plain": [
       "<Figure size 1200x360 with 1 Axes>"
      ]
     },
     "metadata": {
      "needs_background": "light"
     },
     "output_type": "display_data"
    }
   ],
   "source": [
    "plt.figure(dpi=120,figsize=(10,3))\n",
    "sns.distplot(df_married['Purchase'],color='green')\n",
    "plt.axvline(x=9240.460427057078,color = 'black',ls=':')\n",
    "plt.axvline(x=9281.888721107669,color = 'black',ls=':')"
   ]
  },
  {
   "cell_type": "code",
   "execution_count": 30,
   "id": "0e2c494a",
   "metadata": {},
   "outputs": [],
   "source": [
    "df.sort_values(by=['Purchase'],inplace=True)"
   ]
  },
  {
   "cell_type": "markdown",
   "id": "23bf5af6",
   "metadata": {},
   "source": [
    "### sampling and confidence interval"
   ]
  },
  {
   "cell_type": "code",
   "execution_count": 31,
   "id": "9aed0094",
   "metadata": {},
   "outputs": [],
   "source": [
    "import scipy.stats as stats\n",
    "import math"
   ]
  },
  {
   "cell_type": "code",
   "execution_count": 32,
   "id": "be4909fb",
   "metadata": {},
   "outputs": [
    {
     "name": "stdout",
     "output_type": "stream",
     "text": [
      "z-critical value:  1.6448536269514722\n",
      "Confidence interval: (9235.57378753549, 9604.617212464509)\n",
      "True mean: 9261.174574082374\n"
     ]
    }
   ],
   "source": [
    "np.random.seed(10)\n",
    "\n",
    "# lets take a sample size\n",
    "sample_size = 2000\n",
    "sample = np.random.choice(a= df_married['Purchase'],\n",
    "                          size = sample_size)\n",
    "sample_mean = sample.mean()\n",
    "\n",
    "# Get the z-critical value*\n",
    "z_critical = stats.norm.ppf(q = 0.95)  \n",
    "\n",
    " # Check the z-critical value  \n",
    "print(\"z-critical value: \",z_critical)                                \n",
    "\n",
    "# Get the population standard deviation\n",
    "pop_stdev = df_married['Purchase'].std() \n",
    "margin_of_error = z_critical * (pop_stdev/math.sqrt(sample_size)) \n",
    "\n",
    "# defining our confidence interval\n",
    "confidence_interval = (sample_mean - margin_of_error,\n",
    "                       sample_mean + margin_of_error)  \n",
    "\n",
    "# lets print the results\n",
    "print(\"Confidence interval:\",end=\" \")\n",
    "print(confidence_interval)\n",
    "print(\"True mean: {}\".format(df_married['Purchase'].mean()))"
   ]
  },
  {
   "cell_type": "code",
   "execution_count": 33,
   "id": "67d7cb11",
   "metadata": {},
   "outputs": [
    {
     "data": {
      "text/plain": [
       "(225337, 12)"
      ]
     },
     "execution_count": 33,
     "metadata": {},
     "output_type": "execute_result"
    }
   ],
   "source": [
    "df_married.shape"
   ]
  },
  {
   "cell_type": "markdown",
   "id": "da9f5d2c",
   "metadata": {},
   "source": [
    "## Linear Regression"
   ]
  },
  {
   "cell_type": "code",
   "execution_count": 34,
   "id": "425bd0ad",
   "metadata": {},
   "outputs": [],
   "source": [
    "data=df.dropna(axis=0, how=\"any\", thresh=None, subset=None)"
   ]
  },
  {
   "cell_type": "code",
   "execution_count": 35,
   "id": "4bf914b0",
   "metadata": {},
   "outputs": [],
   "source": [
    "data.reset_index(inplace=True)"
   ]
  },
  {
   "cell_type": "code",
   "execution_count": 36,
   "id": "8862c74c",
   "metadata": {},
   "outputs": [
    {
     "name": "stderr",
     "output_type": "stream",
     "text": [
      "C:\\Users\\SACHIT\\AppData\\Local\\Temp\\ipykernel_3808\\2136747082.py:1: SettingWithCopyWarning: \n",
      "A value is trying to be set on a copy of a slice from a DataFrame\n",
      "\n",
      "See the caveats in the documentation: https://pandas.pydata.org/pandas-docs/stable/user_guide/indexing.html#returning-a-view-versus-a-copy\n",
      "  data.drop(columns=['index'],inplace=True)\n"
     ]
    }
   ],
   "source": [
    "data.drop(columns=['index'],inplace=True)"
   ]
  },
  {
   "cell_type": "code",
   "execution_count": 37,
   "id": "6b8ac4dd",
   "metadata": {},
   "outputs": [
    {
     "name": "stderr",
     "output_type": "stream",
     "text": [
      "C:\\Users\\SACHIT\\AppData\\Local\\Temp\\ipykernel_3808\\676194414.py:1: SettingWithCopyWarning: \n",
      "A value is trying to be set on a copy of a slice from a DataFrame\n",
      "\n",
      "See the caveats in the documentation: https://pandas.pydata.org/pandas-docs/stable/user_guide/indexing.html#returning-a-view-versus-a-copy\n",
      "  data.drop(['User_ID','Product_ID'], axis=1, inplace=True)\n"
     ]
    },
    {
     "data": {
      "text/html": [
       "<div>\n",
       "<style scoped>\n",
       "    .dataframe tbody tr th:only-of-type {\n",
       "        vertical-align: middle;\n",
       "    }\n",
       "\n",
       "    .dataframe tbody tr th {\n",
       "        vertical-align: top;\n",
       "    }\n",
       "\n",
       "    .dataframe thead th {\n",
       "        text-align: right;\n",
       "    }\n",
       "</style>\n",
       "<table border=\"1\" class=\"dataframe\">\n",
       "  <thead>\n",
       "    <tr style=\"text-align: right;\">\n",
       "      <th></th>\n",
       "      <th>Gender</th>\n",
       "      <th>Age</th>\n",
       "      <th>Occupation</th>\n",
       "      <th>City_Category</th>\n",
       "      <th>Stay_In_Current_City_Years</th>\n",
       "      <th>Marital_Status</th>\n",
       "      <th>Product_Category_1</th>\n",
       "      <th>Product_Category_2</th>\n",
       "      <th>Product_Category_3</th>\n",
       "      <th>Purchase</th>\n",
       "    </tr>\n",
       "  </thead>\n",
       "  <tbody>\n",
       "    <tr>\n",
       "      <th>0</th>\n",
       "      <td>F</td>\n",
       "      <td>36-45</td>\n",
       "      <td>1</td>\n",
       "      <td>B</td>\n",
       "      <td>1</td>\n",
       "      <td>non_married</td>\n",
       "      <td>13</td>\n",
       "      <td>14.0</td>\n",
       "      <td>16.0</td>\n",
       "      <td>185</td>\n",
       "    </tr>\n",
       "    <tr>\n",
       "      <th>1</th>\n",
       "      <td>M</td>\n",
       "      <td>18-25</td>\n",
       "      <td>4</td>\n",
       "      <td>A</td>\n",
       "      <td>0</td>\n",
       "      <td>non_married</td>\n",
       "      <td>13</td>\n",
       "      <td>14.0</td>\n",
       "      <td>16.0</td>\n",
       "      <td>185</td>\n",
       "    </tr>\n",
       "    <tr>\n",
       "      <th>2</th>\n",
       "      <td>M</td>\n",
       "      <td>46-50</td>\n",
       "      <td>20</td>\n",
       "      <td>A</td>\n",
       "      <td>1</td>\n",
       "      <td>non_married</td>\n",
       "      <td>13</td>\n",
       "      <td>14.0</td>\n",
       "      <td>16.0</td>\n",
       "      <td>186</td>\n",
       "    </tr>\n",
       "    <tr>\n",
       "      <th>3</th>\n",
       "      <td>F</td>\n",
       "      <td>26-35</td>\n",
       "      <td>1</td>\n",
       "      <td>B</td>\n",
       "      <td>1</td>\n",
       "      <td>non_married</td>\n",
       "      <td>13</td>\n",
       "      <td>14.0</td>\n",
       "      <td>16.0</td>\n",
       "      <td>186</td>\n",
       "    </tr>\n",
       "    <tr>\n",
       "      <th>4</th>\n",
       "      <td>M</td>\n",
       "      <td>55+</td>\n",
       "      <td>17</td>\n",
       "      <td>C</td>\n",
       "      <td>0</td>\n",
       "      <td>non_married</td>\n",
       "      <td>13</td>\n",
       "      <td>14.0</td>\n",
       "      <td>16.0</td>\n",
       "      <td>187</td>\n",
       "    </tr>\n",
       "    <tr>\n",
       "      <th>...</th>\n",
       "      <td>...</td>\n",
       "      <td>...</td>\n",
       "      <td>...</td>\n",
       "      <td>...</td>\n",
       "      <td>...</td>\n",
       "      <td>...</td>\n",
       "      <td>...</td>\n",
       "      <td>...</td>\n",
       "      <td>...</td>\n",
       "      <td>...</td>\n",
       "    </tr>\n",
       "    <tr>\n",
       "      <th>166816</th>\n",
       "      <td>M</td>\n",
       "      <td>0-17</td>\n",
       "      <td>0</td>\n",
       "      <td>B</td>\n",
       "      <td>3</td>\n",
       "      <td>non_married</td>\n",
       "      <td>10</td>\n",
       "      <td>15.0</td>\n",
       "      <td>16.0</td>\n",
       "      <td>23953</td>\n",
       "    </tr>\n",
       "    <tr>\n",
       "      <th>166817</th>\n",
       "      <td>M</td>\n",
       "      <td>26-35</td>\n",
       "      <td>4</td>\n",
       "      <td>C</td>\n",
       "      <td>1</td>\n",
       "      <td>married</td>\n",
       "      <td>10</td>\n",
       "      <td>13.0</td>\n",
       "      <td>16.0</td>\n",
       "      <td>23953</td>\n",
       "    </tr>\n",
       "    <tr>\n",
       "      <th>166818</th>\n",
       "      <td>M</td>\n",
       "      <td>55+</td>\n",
       "      <td>0</td>\n",
       "      <td>C</td>\n",
       "      <td>1</td>\n",
       "      <td>married</td>\n",
       "      <td>10</td>\n",
       "      <td>13.0</td>\n",
       "      <td>16.0</td>\n",
       "      <td>23958</td>\n",
       "    </tr>\n",
       "    <tr>\n",
       "      <th>166819</th>\n",
       "      <td>M</td>\n",
       "      <td>18-25</td>\n",
       "      <td>4</td>\n",
       "      <td>B</td>\n",
       "      <td>4+</td>\n",
       "      <td>non_married</td>\n",
       "      <td>10</td>\n",
       "      <td>13.0</td>\n",
       "      <td>16.0</td>\n",
       "      <td>23958</td>\n",
       "    </tr>\n",
       "    <tr>\n",
       "      <th>166820</th>\n",
       "      <td>M</td>\n",
       "      <td>26-35</td>\n",
       "      <td>0</td>\n",
       "      <td>C</td>\n",
       "      <td>3</td>\n",
       "      <td>non_married</td>\n",
       "      <td>10</td>\n",
       "      <td>13.0</td>\n",
       "      <td>16.0</td>\n",
       "      <td>23959</td>\n",
       "    </tr>\n",
       "  </tbody>\n",
       "</table>\n",
       "<p>166821 rows × 10 columns</p>\n",
       "</div>"
      ],
      "text/plain": [
       "       Gender    Age  Occupation City_Category Stay_In_Current_City_Years  \\\n",
       "0           F  36-45           1             B                          1   \n",
       "1           M  18-25           4             A                          0   \n",
       "2           M  46-50          20             A                          1   \n",
       "3           F  26-35           1             B                          1   \n",
       "4           M    55+          17             C                          0   \n",
       "...       ...    ...         ...           ...                        ...   \n",
       "166816      M   0-17           0             B                          3   \n",
       "166817      M  26-35           4             C                          1   \n",
       "166818      M    55+           0             C                          1   \n",
       "166819      M  18-25           4             B                         4+   \n",
       "166820      M  26-35           0             C                          3   \n",
       "\n",
       "       Marital_Status  Product_Category_1  Product_Category_2  \\\n",
       "0         non_married                  13                14.0   \n",
       "1         non_married                  13                14.0   \n",
       "2         non_married                  13                14.0   \n",
       "3         non_married                  13                14.0   \n",
       "4         non_married                  13                14.0   \n",
       "...               ...                 ...                 ...   \n",
       "166816    non_married                  10                15.0   \n",
       "166817        married                  10                13.0   \n",
       "166818        married                  10                13.0   \n",
       "166819    non_married                  10                13.0   \n",
       "166820    non_married                  10                13.0   \n",
       "\n",
       "        Product_Category_3  Purchase  \n",
       "0                     16.0       185  \n",
       "1                     16.0       185  \n",
       "2                     16.0       186  \n",
       "3                     16.0       186  \n",
       "4                     16.0       187  \n",
       "...                    ...       ...  \n",
       "166816                16.0     23953  \n",
       "166817                16.0     23953  \n",
       "166818                16.0     23958  \n",
       "166819                16.0     23958  \n",
       "166820                16.0     23959  \n",
       "\n",
       "[166821 rows x 10 columns]"
      ]
     },
     "execution_count": 37,
     "metadata": {},
     "output_type": "execute_result"
    }
   ],
   "source": [
    "data.drop(['User_ID','Product_ID'], axis=1, inplace=True)\n",
    "data"
   ]
  },
  {
   "cell_type": "code",
   "execution_count": 38,
   "id": "fe4fdfc5",
   "metadata": {},
   "outputs": [],
   "source": [
    "X = data.iloc[:, 0:9].values\n",
    "y = data.iloc[:, 9].values\n",
    "from sklearn.model_selection import train_test_split\n",
    "X_train, X_test, y_train, y_test = train_test_split(X, y, test_size = 0.2, random_state = 0)"
   ]
  },
  {
   "cell_type": "code",
   "execution_count": 39,
   "id": "a9d0485b",
   "metadata": {},
   "outputs": [],
   "source": [
    "from sklearn.preprocessing import LabelEncoder\n",
    "labelencoder_X_train = LabelEncoder()"
   ]
  },
  {
   "cell_type": "code",
   "execution_count": 40,
   "id": "b1289ae4",
   "metadata": {},
   "outputs": [
    {
     "data": {
      "text/plain": [
       "array([[1, '26-35', 4, ..., 2, 5.0, 12.0],\n",
       "       [0, '36-45', 9, ..., 3, 4.0, 12.0],\n",
       "       [1, '26-35', 14, ..., 10, 15.0, 16.0],\n",
       "       ...,\n",
       "       [1, '26-35', 19, ..., 1, 2.0, 5.0],\n",
       "       [1, '26-35', 0, ..., 1, 2.0, 15.0],\n",
       "       [1, '26-35', 0, ..., 8, 16.0, 17.0]], dtype=object)"
      ]
     },
     "execution_count": 40,
     "metadata": {},
     "output_type": "execute_result"
    }
   ],
   "source": [
    "X_train[:, 0] = labelencoder_X_train.fit_transform(X_train[:, 0])\n",
    "X_train"
   ]
  },
  {
   "cell_type": "code",
   "execution_count": 41,
   "id": "fb37d978",
   "metadata": {},
   "outputs": [
    {
     "data": {
      "text/plain": [
       "array([[1, 2, 4, ..., 2, 5.0, 12.0],\n",
       "       [0, 3, 9, ..., 3, 4.0, 12.0],\n",
       "       [1, 2, 14, ..., 10, 15.0, 16.0],\n",
       "       ...,\n",
       "       [1, 2, 19, ..., 1, 2.0, 5.0],\n",
       "       [1, 2, 0, ..., 1, 2.0, 15.0],\n",
       "       [1, 2, 0, ..., 8, 16.0, 17.0]], dtype=object)"
      ]
     },
     "execution_count": 41,
     "metadata": {},
     "output_type": "execute_result"
    }
   ],
   "source": [
    "X_train[:, 1] = labelencoder_X_train.fit_transform(X_train[:, 1])\n",
    "X_train"
   ]
  },
  {
   "cell_type": "code",
   "execution_count": 42,
   "id": "d6f39226",
   "metadata": {},
   "outputs": [
    {
     "data": {
      "text/plain": [
       "array([[1, 2, 4, ..., 2, 5.0, 12.0],\n",
       "       [0, 3, 9, ..., 3, 4.0, 12.0],\n",
       "       [1, 2, 14, ..., 10, 15.0, 16.0],\n",
       "       ...,\n",
       "       [1, 2, 19, ..., 1, 2.0, 5.0],\n",
       "       [1, 2, 0, ..., 1, 2.0, 15.0],\n",
       "       [1, 2, 0, ..., 8, 16.0, 17.0]], dtype=object)"
      ]
     },
     "execution_count": 42,
     "metadata": {},
     "output_type": "execute_result"
    }
   ],
   "source": [
    "X_train[:, 3] = labelencoder_X_train.fit_transform(X_train[:, 3])\n",
    "X_train"
   ]
  },
  {
   "cell_type": "code",
   "execution_count": 43,
   "id": "259a5d96",
   "metadata": {},
   "outputs": [
    {
     "data": {
      "text/plain": [
       "array([['F', '26-35', 20, ..., 1, 15.0, 16.0],\n",
       "       ['F', '36-45', 11, ..., 5, 12.0, 14.0],\n",
       "       ['F', '51-55', 7, ..., 2, 8.0, 16.0],\n",
       "       ...,\n",
       "       ['M', '0-17', 10, ..., 5, 14.0, 17.0],\n",
       "       ['M', '0-17', 19, ..., 1, 6.0, 8.0],\n",
       "       ['F', '26-35', 6, ..., 3, 4.0, 12.0]], dtype=object)"
      ]
     },
     "execution_count": 43,
     "metadata": {},
     "output_type": "execute_result"
    }
   ],
   "source": [
    "labelencoder_X_test = LabelEncoder()\n",
    "X_test"
   ]
  },
  {
   "cell_type": "code",
   "execution_count": 44,
   "id": "68ae8ad8",
   "metadata": {},
   "outputs": [
    {
     "data": {
      "text/plain": [
       "array([[0, '26-35', 20, ..., 1, 15.0, 16.0],\n",
       "       [0, '36-45', 11, ..., 5, 12.0, 14.0],\n",
       "       [0, '51-55', 7, ..., 2, 8.0, 16.0],\n",
       "       ...,\n",
       "       [1, '0-17', 10, ..., 5, 14.0, 17.0],\n",
       "       [1, '0-17', 19, ..., 1, 6.0, 8.0],\n",
       "       [0, '26-35', 6, ..., 3, 4.0, 12.0]], dtype=object)"
      ]
     },
     "execution_count": 44,
     "metadata": {},
     "output_type": "execute_result"
    }
   ],
   "source": [
    "X_test[:, 0] = labelencoder_X_test.fit_transform(X_test[:, 0])\n",
    "X_test"
   ]
  },
  {
   "cell_type": "code",
   "execution_count": 45,
   "id": "8e633d4a",
   "metadata": {},
   "outputs": [
    {
     "data": {
      "text/plain": [
       "array([[0, 2, 20, ..., 1, 15.0, 16.0],\n",
       "       [0, 3, 11, ..., 5, 12.0, 14.0],\n",
       "       [0, 5, 7, ..., 2, 8.0, 16.0],\n",
       "       ...,\n",
       "       [1, 0, 10, ..., 5, 14.0, 17.0],\n",
       "       [1, 0, 19, ..., 1, 6.0, 8.0],\n",
       "       [0, 2, 6, ..., 3, 4.0, 12.0]], dtype=object)"
      ]
     },
     "execution_count": 45,
     "metadata": {},
     "output_type": "execute_result"
    }
   ],
   "source": [
    "X_test[:, 1] = labelencoder_X_test.fit_transform(X_test[:, 1])\n",
    "X_test"
   ]
  },
  {
   "cell_type": "code",
   "execution_count": 46,
   "id": "9856903b",
   "metadata": {},
   "outputs": [
    {
     "data": {
      "text/plain": [
       "array([[0, 2, 20, ..., 1, 15.0, 16.0],\n",
       "       [0, 3, 11, ..., 5, 12.0, 14.0],\n",
       "       [0, 5, 7, ..., 2, 8.0, 16.0],\n",
       "       ...,\n",
       "       [1, 0, 10, ..., 5, 14.0, 17.0],\n",
       "       [1, 0, 19, ..., 1, 6.0, 8.0],\n",
       "       [0, 2, 6, ..., 3, 4.0, 12.0]], dtype=object)"
      ]
     },
     "execution_count": 46,
     "metadata": {},
     "output_type": "execute_result"
    }
   ],
   "source": [
    "X_test[:, 3] = labelencoder_X_test.fit_transform(X_test[:, 3])\n",
    "X_test"
   ]
  },
  {
   "cell_type": "code",
   "execution_count": 47,
   "id": "0d6770f6",
   "metadata": {},
   "outputs": [],
   "source": [
    "for i in range(len(X_train)):\n",
    "    if(X_train[i][5]=='married'):\n",
    "        X_train[i][5]='1'\n",
    "    else:\n",
    "        X_train[i][5]='0'"
   ]
  },
  {
   "cell_type": "code",
   "execution_count": 48,
   "id": "261e9524",
   "metadata": {},
   "outputs": [],
   "source": [
    "for i in range(len(X_test)):\n",
    "    if(X_test[i][5]=='married'):\n",
    "        X_test[i][5]='1'\n",
    "    else:\n",
    "        X_test[i][5]='0'"
   ]
  },
  {
   "cell_type": "code",
   "execution_count": 49,
   "id": "2d64c415",
   "metadata": {},
   "outputs": [],
   "source": [
    "for i in range(len(X_test)):\n",
    "    X_test[i][4]=X_test[i][4].rstrip('+')"
   ]
  },
  {
   "cell_type": "code",
   "execution_count": 50,
   "id": "4086d832",
   "metadata": {},
   "outputs": [],
   "source": [
    "for i in range(len(X_train)):\n",
    "    X_train[i][4]=X_train[i][4].rstrip('+')"
   ]
  },
  {
   "cell_type": "code",
   "execution_count": 51,
   "id": "91d64ec0",
   "metadata": {},
   "outputs": [],
   "source": [
    "# Feature Scaling of training and test set\n",
    "from sklearn.preprocessing import StandardScaler\n",
    "sc_X_train = StandardScaler()\n",
    "X_train = sc_X_train.fit_transform(X_train)\n",
    "\n",
    "sc_X_test = StandardScaler()\n",
    "X_test = sc_X_test.fit_transform(X_test)"
   ]
  },
  {
   "cell_type": "code",
   "execution_count": 52,
   "id": "7a8413c4",
   "metadata": {},
   "outputs": [],
   "source": [
    "from sklearn.ensemble import RandomForestRegressor\n",
    "\n",
    "from sklearn.metrics import mean_absolute_error"
   ]
  },
  {
   "cell_type": "code",
   "execution_count": 53,
   "id": "0f2b7139",
   "metadata": {},
   "outputs": [],
   "source": [
    "def get_mae(max_leaf_nodes, X_train, X_test, y_train, y_test):\n",
    "    model = RandomForestRegressor(max_leaf_nodes=max_leaf_nodes, random_state=0)\n",
    "    model.fit(X_train, y_train)\n",
    "    y_pred = model.predict(X_test)\n",
    "    mae = mean_absolute_error(y_test,y_pred)\n",
    "    return(mae)"
   ]
  },
  {
   "cell_type": "code",
   "execution_count": 54,
   "id": "c9221d7a",
   "metadata": {},
   "outputs": [
    {
     "name": "stdout",
     "output_type": "stream",
     "text": [
      "Max leaf nodes: 5  \t\t Mean Absolute Error:  3194\n",
      "Max leaf nodes: 50  \t\t Mean Absolute Error:  2784\n",
      "Max leaf nodes: 100  \t\t Mean Absolute Error:  2752\n",
      "Max leaf nodes: 300  \t\t Mean Absolute Error:  2730\n",
      "Max leaf nodes: 500  \t\t Mean Absolute Error:  2723\n",
      "Max leaf nodes: 700  \t\t Mean Absolute Error:  2720\n",
      "Max leaf nodes: 800  \t\t Mean Absolute Error:  2719\n",
      "Max leaf nodes: 850  \t\t Mean Absolute Error:  2718\n"
     ]
    }
   ],
   "source": [
    "for max_leaf_nodes in [5, 50, 100, 300, 500, 700, 800, 850]:\n",
    "    my_mae = get_mae(max_leaf_nodes, X_train, X_test, y_train, y_test)\n",
    "    print(\"Max leaf nodes: %d  \\t\\t Mean Absolute Error:  %d\" %(max_leaf_nodes, my_mae))"
   ]
  },
  {
   "cell_type": "markdown",
   "id": "e9269a3f",
   "metadata": {},
   "source": [
    "## Result"
   ]
  },
  {
   "cell_type": "code",
   "execution_count": 55,
   "id": "2b9ae9ab",
   "metadata": {},
   "outputs": [],
   "source": [
    "regressor = RandomForestRegressor(n_estimators=700, random_state=0)\n",
    "regressor.fit(X_train, y_train)\n",
    "y_pred = regressor.predict(X_test)"
   ]
  },
  {
   "cell_type": "code",
   "execution_count": 56,
   "id": "03e70536",
   "metadata": {},
   "outputs": [
    {
     "data": {
      "text/plain": [
       "5615.319278911561"
      ]
     },
     "execution_count": 56,
     "metadata": {},
     "output_type": "execute_result"
    }
   ],
   "source": [
    "y_pred[3]"
   ]
  },
  {
   "cell_type": "code",
   "execution_count": 57,
   "id": "ba930354",
   "metadata": {},
   "outputs": [
    {
     "data": {
      "text/plain": [
       "5459"
      ]
     },
     "execution_count": 57,
     "metadata": {},
     "output_type": "execute_result"
    }
   ],
   "source": [
    "y_test[3]"
   ]
  }
 ],
 "metadata": {
  "kernelspec": {
   "display_name": "Python 3 (ipykernel)",
   "language": "python",
   "name": "python3"
  },
  "language_info": {
   "codemirror_mode": {
    "name": "ipython",
    "version": 3
   },
   "file_extension": ".py",
   "mimetype": "text/x-python",
   "name": "python",
   "nbconvert_exporter": "python",
   "pygments_lexer": "ipython3",
   "version": "3.9.11"
  }
 },
 "nbformat": 4,
 "nbformat_minor": 5
}
